{
 "cells": [
  {
   "cell_type": "code",
   "execution_count": 16,
   "id": "ec91dd65",
   "metadata": {},
   "outputs": [
    {
     "name": "stdout",
     "output_type": "stream",
     "text": [
      "Enter a choice 'rock, paper, scissors': scissors\n",
      "scissors\n",
      "your choice is scissors and computer chioce is rock\n",
      "You lose.\n"
     ]
    }
   ],
   "source": [
    "import random \n",
    "\n",
    "def computer(n):\n",
    "    if n==1:\n",
    "        cop=\"rock\"\n",
    "    elif n==2:\n",
    "        cop=\"paper\"\n",
    "    elif n==3:\n",
    "        cop=\"scissors\"\n",
    "    return cop\n",
    "n=random.randrange(1,3)\n",
    "#print(n)\n",
    "comp=computer(n)\n",
    "user_in=input(\"Enter a choice 'rock, paper, scissors': \")\n",
    "print(user_in)\n",
    "if user_in ==\"rock\" or user_in==\"paper\" or user_in==\"scissors\":\n",
    "    print(f\"your choice is {user_in} and computer chioce is {comp}\")\n",
    "\n",
    "    if user_in == comp:\n",
    "        print(\"It is a draw\")\n",
    "    elif user_in == \"rock\":\n",
    "        if comp == \"scissors\":\n",
    "            print(\"You win!\")\n",
    "        elif comp==\"paper\":\n",
    "            print(\"You lose.\")\n",
    "    elif user_in==\"scissors\":\n",
    "        if comp==\"rock\":\n",
    "            print(\"You lose.\")\n",
    "        elif comp==\"paper\":\n",
    "            print(\"You win!\")\n",
    "    elif user_in==\"paper\":\n",
    "        if comp==\"rock\":\n",
    "            print(\"You win!\")\n",
    "        elif comp==\"scissors\":\n",
    "            print(\"You lose.\")\n",
    "else:\n",
    "    print(\"ERROR\")\n",
    "    \n",
    "        "
   ]
  },
  {
   "cell_type": "code",
   "execution_count": null,
   "id": "a6b461b1",
   "metadata": {},
   "outputs": [],
   "source": []
  },
  {
   "cell_type": "code",
   "execution_count": null,
   "id": "be11a372",
   "metadata": {},
   "outputs": [],
   "source": []
  }
 ],
 "metadata": {
  "kernelspec": {
   "display_name": "Python 3",
   "language": "python",
   "name": "python3"
  },
  "language_info": {
   "codemirror_mode": {
    "name": "ipython",
    "version": 3
   },
   "file_extension": ".py",
   "mimetype": "text/x-python",
   "name": "python",
   "nbconvert_exporter": "python",
   "pygments_lexer": "ipython3",
   "version": "3.8.8"
  }
 },
 "nbformat": 4,
 "nbformat_minor": 5
}
