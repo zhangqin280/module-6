{
 "cells": [
  {
   "cell_type": "code",
   "execution_count": 19,
   "id": "e763dc36",
   "metadata": {},
   "outputs": [
    {
     "name": "stdout",
     "output_type": "stream",
     "text": [
      "Enter a choice 'rock, paper, scissors': scissors\n",
      "scissors\n",
      "your choice is scissors and computer chioce is rock\n",
      "You lose.\n",
      "Do you want play again? (yes/no)yes\n",
      "Enter a choice 'rock, paper, scissors': rock\n",
      "rock\n",
      "your choice is rock and computer chioce is rock\n",
      "It is a draw\n",
      "Do you want play again? (yes/no)yes\n",
      "Enter a choice 'rock, paper, scissors': rock\n",
      "rock\n",
      "your choice is rock and computer chioce is rock\n",
      "It is a draw\n",
      "Do you want play again? (yes/no)yes\n",
      "Enter a choice 'rock, paper, scissors': paper\n",
      "paper\n",
      "your choice is paper and computer chioce is rock\n",
      "You win!\n",
      "Do you want play again? (yes/no)no\n",
      "You win 1 times, loss 1 time and tie 2 time.\n"
     ]
    }
   ],
   "source": [
    "import random \n",
    "\n",
    "def computer(n):\n",
    "    if n==1:\n",
    "        cop=\"rock\"\n",
    "    elif n==2:\n",
    "        cop=\"paper\"\n",
    "    elif n==3:\n",
    "        cop=\"scissors\"\n",
    "    return cop\n",
    "\n",
    "n=random.randrange(1,3)\n",
    "#print(n)\n",
    "comp=computer(n)\n",
    "win=0\n",
    "loss=0\n",
    "tie=0\n",
    "while True:\n",
    "    user_in=input(\"Enter a choice 'rock, paper, scissors': \")\n",
    "    print(user_in)\n",
    "    if user_in ==\"rock\" or user_in==\"paper\" or user_in==\"scissors\":\n",
    "        print(f\"your choice is {user_in} and computer chioce is {comp}\")\n",
    "\n",
    "        if user_in == comp:\n",
    "            tie+=1\n",
    "            print(\"It is a draw\")\n",
    "        elif user_in == \"rock\":\n",
    "            if comp == \"scissors\":\n",
    "                win+=1\n",
    "                print(\"You win!\")\n",
    "            elif comp==\"paper\":\n",
    "                loss+=1\n",
    "                print(\"You lose.\")\n",
    "        elif user_in==\"scissors\":\n",
    "            if comp==\"rock\":\n",
    "                loss+=1\n",
    "                print(\"You lose.\")\n",
    "            elif comp==\"paper\":\n",
    "                print(\"You win!\")\n",
    "        elif user_in==\"paper\":\n",
    "            if comp==\"rock\":\n",
    "                win+=1\n",
    "                print(\"You win!\")\n",
    "            elif comp==\"scissors\":\n",
    "                loss+=1\n",
    "                print(\"You lose.\")\n",
    "    \n",
    "    q1=input(\"Do you want play again? (yes/no)\")\n",
    "    \n",
    "    if q1==\"yes\":\n",
    "        continue\n",
    "    else:\n",
    "        print(f\"You win {win} times, loss {loss} time and tie {tie} time.\")\n",
    "        break\n",
    "\n",
    "    \n",
    "        "
   ]
  },
  {
   "cell_type": "code",
   "execution_count": null,
   "id": "b965ee58",
   "metadata": {},
   "outputs": [],
   "source": []
  },
  {
   "cell_type": "code",
   "execution_count": null,
   "id": "7dc614ae",
   "metadata": {},
   "outputs": [],
   "source": []
  }
 ],
 "metadata": {
  "kernelspec": {
   "display_name": "Python 3",
   "language": "python",
   "name": "python3"
  },
  "language_info": {
   "codemirror_mode": {
    "name": "ipython",
    "version": 3
   },
   "file_extension": ".py",
   "mimetype": "text/x-python",
   "name": "python",
   "nbconvert_exporter": "python",
   "pygments_lexer": "ipython3",
   "version": "3.8.8"
  }
 },
 "nbformat": 4,
 "nbformat_minor": 5
}
